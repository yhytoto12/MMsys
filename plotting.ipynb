{
 "cells": [
  {
   "cell_type": "code",
   "execution_count": 6,
   "metadata": {},
   "outputs": [
    {
     "name": "stdout",
     "output_type": "stream",
     "text": [
      "2-t-ourc [66.852 65.158 68.142 66.478 68.023 64.452 68.222 62.249 64.668 67.28 ] 66.1524 0.5909991573598046\n",
      "3-t-naive0 [95.254 97.471 99.051 99.795 97.571 95.367 98.942 95.229 98.227 96.847] 97.3754 0.5030825419352174\n",
      "1-t-naive0 [49.888 49.745 51.001 56.561 54.668 58.149 51.927 68.731 53.496 51.228] 54.539399999999986 1.7162601271369091\n",
      "2-t-naive0 [ 76.317  99.472  80.722  76.045 162.122  80.991  80.267  79.384  80.711\n",
      " 108.476] 92.4507 8.009701045669557\n",
      "3-t-ourc [72.11  75.279 73.865 73.979 71.83  72.627 73.685 71.929 72.996 66.995] 72.52950000000001 0.6683056224512848\n",
      "5-t-ourc [ 98.427 100.308 100.589 101.528 101.874  96.105  94.784  93.582  93.407\n",
      "  94.103] 97.4707 1.03247204368932\n",
      "1-t-ourc [69.26  63.517 62.287 65.915 63.249 61.966 71.788 68.127 61.716 62.193] 65.0018 1.0739394098365138\n",
      "5-t-naive0 [154.548 158.236 152.139 172.102 156.274 156.279 149.744 157.506 150.838\n",
      " 157.567] 156.5233 1.8687201986921425\n",
      "4-t-naive0 [122.344 121.457 119.963 125.9   121.439 148.53  123.335 124.302 120.182\n",
      " 118.754] 124.6206 2.6003380557150644\n",
      "4-t-ourc [90.337 82.432 88.498 83.107 84.634 84.161 85.467 85.673 87.993 83.955] 85.6257 0.7651248924195319\n"
     ]
    }
   ],
   "source": [
    "import json\n",
    "import os\n",
    "import numpy as np\n",
    "\n",
    "path = '/gallery_uffizi/sehun.lee/dev/lectures/aisys/MMsys/final_log/synthetic-4'\n",
    "\n",
    "filenames = os.listdir(path)\n",
    "filenames = sorted(filenames)\n",
    "\n",
    "for filename in filenames:\n",
    "    filepath = os.path.join(path, filename)\n",
    "    with open(filepath, 'r') as f:\n",
    "        data = json.load(f)\n",
    "    \n",
    "    durs = []\n",
    "    for v in data['traceEvents']:\n",
    "        if 'ProfilerStep' in v['name']:\n",
    "            durs.append(v['dur']) \n",
    "    \n",
    "    durs = np.array(durs) / 1000.0\n",
    "    durs.mean()\n",
    "    \n",
    "    print(filename.split('_')[0], durs, durs.mean(), durs.std() / np.sqrt(len(durs)))\n",
    "    "
   ]
  },
  {
   "cell_type": "code",
   "execution_count": null,
   "metadata": {},
   "outputs": [],
   "source": []
  },
  {
   "cell_type": "code",
   "execution_count": null,
   "metadata": {},
   "outputs": [],
   "source": []
  }
 ],
 "metadata": {
  "kernelspec": {
   "display_name": "aisys",
   "language": "python",
   "name": "python3"
  },
  "language_info": {
   "codemirror_mode": {
    "name": "ipython",
    "version": 3
   },
   "file_extension": ".py",
   "mimetype": "text/x-python",
   "name": "python",
   "nbconvert_exporter": "python",
   "pygments_lexer": "ipython3",
   "version": "3.10.11"
  },
  "orig_nbformat": 4
 },
 "nbformat": 4,
 "nbformat_minor": 2
}
